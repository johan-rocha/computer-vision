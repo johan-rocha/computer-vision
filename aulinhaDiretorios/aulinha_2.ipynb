{
 "cells": [
  {
   "cell_type": "code",
   "execution_count": null,
   "metadata": {},
   "outputs": [],
   "source": [
    "import os\n",
    "import os.path\n",
    "import shutil\n"
   ]
  },
  {
   "cell_type": "code",
   "execution_count": null,
   "metadata": {},
   "outputs": [],
   "source": [
    "if (not os.path.exists(\"aulinha_2\")): #ou os.path.isdir() ou os.path.isfile() #mv = os.rename(end_arq, end_dest, renomear )\n",
    "    os.mkdir(\"aulinha_2\")\n",
    "\n",
    "os.chdir(\"aulinha_2\")\n",
    "\n",
    "for i in range(1, 11):\n",
    "    with open(\"live_{}.txt\".format(i), \"w\") as f:\n",
    "        f.write(\"\")\n",
    "    "
   ]
  }
 ],
 "metadata": {
  "kernelspec": {
   "display_name": "Python 3.9.9 64-bit",
   "language": "python",
   "name": "python3"
  },
  "language_info": {
   "name": "python",
   "version": "3.9.9"
  },
  "orig_nbformat": 4,
  "vscode": {
   "interpreter": {
    "hash": "397704579725e15f5c7cb49fe5f0341eb7531c82d19f2c29d197e8b64ab5776b"
   }
  }
 },
 "nbformat": 4,
 "nbformat_minor": 2
}
