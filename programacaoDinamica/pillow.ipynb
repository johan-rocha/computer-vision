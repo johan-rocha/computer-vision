{
 "cells": [
  {
   "cell_type": "code",
   "execution_count": 21,
   "metadata": {},
   "outputs": [],
   "source": [
    "import cv2\n",
    "import matplotlib.pyplot\n",
    "from PIL import Image\n",
    "import os\n",
    "import matplotlib.pyplot as plt"
   ]
  },
  {
   "cell_type": "markdown",
   "metadata": {},
   "source": [
    "# FAZENDO AS ATIVIDADES DA BANDEIRA...\n",
    "\n",
    "https://www.youtube.com/watch?v=kb8S06dpZiM&list=PL5TJqBvpXQv54i_HWjd7s70vbP4Is7sK_&index=2"
   ]
  },
  {
   "cell_type": "code",
   "execution_count": 22,
   "metadata": {},
   "outputs": [],
   "source": [
    "if(not os.path.exists(\"input\")):\n",
    "    os.mkdir(\"input\")\n",
    "if(not os.path.isdir(\"output\")):\n",
    "    os.mkdir(\"output\")\n",
    "\n",
    "INPUT_FOLDER = \"input\"\n",
    "OUTPUT_FOLDER = \"output\"\n",
    "\n",
    "def in_path(nome_arquivo):\n",
    "    return os.path.join(INPUT_FOLDER, nome_arquivo)\n"
   ]
  },
  {
   "cell_type": "code",
   "execution_count": 23,
   "metadata": {},
   "outputs": [],
   "source": [
    "def triangle(size):\n",
    "    WHITE = (255, 255, 255)\n",
    "    BLACK = (0, 0, 0)\n",
    "    YELLOW = (255, 255, 0)\n",
    "    image = Image.new(\"RGB\", (size, size), YELLOW)\n",
    "\n",
    "    for x in range(size):\n",
    "        for y in range(size):\n",
    "            if(x < y):\n",
    "                image.putpixel((x, y), BLACK)\n",
    "    return image"
   ]
  },
  {
   "cell_type": "markdown",
   "metadata": {},
   "source": [
    "BANDEIRA DA FRANÇA"
   ]
  },
  {
   "cell_type": "code",
   "execution_count": 24,
   "metadata": {},
   "outputs": [],
   "source": [
    "def bandeira_franca(width):\n",
    "    WHITE = (255, 255, 255)\n",
    "    BLUE = (0, 85, 164)\t\n",
    "    RED = (239, 65, 53)\t\n",
    "    height = (2*width)//3\n",
    "    bandeira = Image.new(\"RGB\", (width, height), WHITE)\n",
    "    \n",
    "    for x in range(width):\n",
    "        for y in range(height):\n",
    "            if(x <= (width//3)):\n",
    "                bandeira.putpixel((x,y), BLUE)\n",
    "            if(x >= 2*(width//3)):\n",
    "                bandeira.putpixel((x,y), RED)\n",
    "    return bandeira"
   ]
  },
  {
   "cell_type": "markdown",
   "metadata": {},
   "source": [
    "BANDEIRA DO JAPÃO"
   ]
  },
  {
   "cell_type": "code",
   "execution_count": null,
   "metadata": {},
   "outputs": [],
   "source": []
  },
  {
   "cell_type": "markdown",
   "metadata": {},
   "source": [
    "BANDEIRA BRASILEIRA"
   ]
  },
  {
   "cell_type": "code",
   "execution_count": 25,
   "metadata": {},
   "outputs": [],
   "source": [
    "def bandeira_brasil(width):\n",
    "    VERDE = (0, 156, 59)\n",
    "    AMARELO = (255, 223, 0)\n",
    "    AZUL = (0, 39, 118)\n",
    "    BRANCO = (255, 255, 255)\n",
    "    height = (7*width)//10\n",
    "    bandeira = Image.new(\"RGB\", (width, height), VERDE)\n",
    "    loswidth = (100*width)//83\n",
    "    losheight = (70*height)//53\n",
    "    centro = (width//2, height//2)\n",
    "    for x in range(centro[0]-(loswidth//2), centro[0]+(loswidth//2)):\n",
    "        for y in range(centro[1]-(losheight//2), centro[1]+(losheight//2)):\n",
    "            if()\n",
    "            bandeira.putpixel((x,y), AMARELO)\n",
    "    return bandeira"
   ]
  },
  {
   "cell_type": "code",
   "execution_count": 28,
   "metadata": {},
   "outputs": [
    {
     "data": {
      "image/png": "[encoded data removed]",
      "text/plain": [
       "<Figure size 432x288 with 1 Axes>"
      ]
     },
     "metadata": {
      "needs_background": "light"
     },
     "output_type": "display_data"
    }
   ],
   "source": [
    "if (__name__ == \"__main__\"):\n",
    "    t = bandeira_brasil(800)\n",
    "    plt.imshow(t)\n",
    "    #t.show(t)"
   ]
  }
 ],
 "metadata": {
  "kernelspec": {
   "display_name": "Python 3.6.13 ('computerVision')",
   "language": "python",
   "name": "python3"
  },
  "language_info": {
   "codemirror_mode": {
    "name": "ipython",
    "version": 3
   },
   "file_extension": ".py",
   "mimetype": "text/x-python",
   "name": "python",
   "nbconvert_exporter": "python",
   "pygments_lexer": "ipython3",
   "version": "3.6.13"
  },
  "orig_nbformat": 4,
  "vscode": {
   "interpreter": {
    "hash": "114d35c1e958226405b8dc5b78fad6e1aebd13ae612b55848d30b138c721d7f2"
   }
  }
 },
 "nbformat": 4,
 "nbformat_minor": 2
}
